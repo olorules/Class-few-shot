{
 "cells": [
  {
   "cell_type": "code",
   "execution_count": 1,
   "metadata": {
    "collapsed": true,
    "ExecuteTime": {
     "end_time": "2025-03-20T13:08:17.102249977Z",
     "start_time": "2025-03-20T13:08:17.098898546Z"
    }
   },
   "outputs": [],
   "source": [
    "import pandas as pd"
   ]
  },
  {
   "cell_type": "code",
   "execution_count": 3,
   "outputs": [],
   "source": [
    "base = pd.read_pickle('../data/base_df.pkl')\n",
    "snli = pd.read_pickle('../data/english_snli_generate_class_shot.pkl')\n",
    "tweet = pd.read_pickle('../data/english_tweet_eval_generate_class_shot.pkl')\n",
    "sarcasmania = pd.read_pickle('../data/sarcasmania_generate_class_shot.pkl')\n",
    "word_context = pd.read_pickle('../data/word_context_generate_class_shot.pkl')\n",
    "\n",
    "snli['correctness'] = snli['ratio_'].map(lambda x: abs(1 - x))\n",
    "tweet['correctness'] = tweet['ratio_'].map(lambda x: abs(1 - x))\n",
    "sarcasmania['correctness'] = sarcasmania['ratio_'].map(lambda x: abs(1 - x))\n",
    "word_context['correctness'] = word_context['ratio_'].map(lambda x: abs(1 - x))\n",
    "base['correctness'] = base['ratio'].map(lambda x: abs(1 - x))"
   ],
   "metadata": {
    "collapsed": false,
    "ExecuteTime": {
     "end_time": "2025-03-20T13:08:29.044911336Z",
     "start_time": "2025-03-20T13:08:28.988058449Z"
    }
   }
  },
  {
   "cell_type": "code",
   "execution_count": 4,
   "outputs": [],
   "source": [
    "# change values in order_ column with {'AB': 'Maj-Min', 'BA': 'Min-Maj'} in sarcasmania\n",
    "sarcasmania['order_'] = sarcasmania['order_'].map({'AB': 'Maj-Min', 'BA': 'Min-Maj'})\n",
    "word_context['order_'] = word_context['order_'].map({'AB': 'Maj-Min', 'BA': 'Min-Maj'})\n",
    "snli['order_'] = snli['order_'].map({'ABC': 'Maj-Min', 'CBA': 'Min-Maj'})\n",
    "tweet['order_'] = tweet['order_'].map({'ADBC': 'Maj-Min', 'CBDA': 'Min-Maj'})"
   ],
   "metadata": {
    "collapsed": false,
    "ExecuteTime": {
     "end_time": "2025-03-20T13:08:31.079024068Z",
     "start_time": "2025-03-20T13:08:31.074452304Z"
    }
   }
  },
  {
   "cell_type": "code",
   "execution_count": 5,
   "outputs": [],
   "source": [
    "def o_p_analysis(df, name):\n",
    "    df = df[df['correctness'] == 1][df['fewshot_'] > 1][df['permutation_'] != 'None'].groupby(['model_','permutation_','order_']).mean()['mean_f1_mean'].unstack().unstack().dropna(axis=1)\n",
    "    df.columns = [\"_\".join(col).strip() for col in df.columns.to_flat_index()]\n",
    "    # df.index = [i+f'_{name}' for i in df.index]\n",
    "    df['dataset'] = name\n",
    "    df['model'] = df.index\n",
    "    df = df.set_index(['dataset', 'model'])\n",
    "    # rename column that contains the word \"RANDOM\" to \"RANDOM\"\n",
    "    df.columns = [i if 'RANDOM' not in i else 'RANDOM' for i in df.columns]\n",
    "    # make the RANDOM column the last column\n",
    "    df = df[[col for col in df.columns if col != 'RANDOM'] + ['RANDOM']]\n",
    "    return df"
   ],
   "metadata": {
    "collapsed": false,
    "ExecuteTime": {
     "end_time": "2025-03-20T13:08:36.427992333Z",
     "start_time": "2025-03-20T13:08:36.419830897Z"
    }
   }
  },
  {
   "cell_type": "code",
   "execution_count": 6,
   "outputs": [
    {
     "name": "stderr",
     "output_type": "stream",
     "text": [
      "/tmp/ipykernel_12840/1340402950.py:2: UserWarning: Boolean Series key will be reindexed to match DataFrame index.\n",
      "  df = df[df['correctness'] == 1][df['fewshot_'] > 1][df['permutation_'] != 'None'].groupby(['model_','permutation_','order_']).mean()['mean_f1_mean'].unstack().unstack().dropna(axis=1)\n",
      "/tmp/ipykernel_12840/1340402950.py:2: UserWarning: Boolean Series key will be reindexed to match DataFrame index.\n",
      "  df = df[df['correctness'] == 1][df['fewshot_'] > 1][df['permutation_'] != 'None'].groupby(['model_','permutation_','order_']).mean()['mean_f1_mean'].unstack().unstack().dropna(axis=1)\n",
      "/tmp/ipykernel_12840/1340402950.py:2: UserWarning: Boolean Series key will be reindexed to match DataFrame index.\n",
      "  df = df[df['correctness'] == 1][df['fewshot_'] > 1][df['permutation_'] != 'None'].groupby(['model_','permutation_','order_']).mean()['mean_f1_mean'].unstack().unstack().dropna(axis=1)\n",
      "/tmp/ipykernel_12840/1340402950.py:2: UserWarning: Boolean Series key will be reindexed to match DataFrame index.\n",
      "  df = df[df['correctness'] == 1][df['fewshot_'] > 1][df['permutation_'] != 'None'].groupby(['model_','permutation_','order_']).mean()['mean_f1_mean'].unstack().unstack().dropna(axis=1)\n"
     ]
    }
   ],
   "source": [
    "dfs = []\n",
    "for i, name in zip([snli, tweet, sarcasmania, word_context], ['snli', 'tweet', 'sarcasmania', 'word_context']):\n",
    "    dfs.append(o_p_analysis(i, name))\n",
    "all_o_p = pd.concat(dfs)"
   ],
   "metadata": {
    "collapsed": false,
    "ExecuteTime": {
     "end_time": "2025-03-20T13:08:41.902000852Z",
     "start_time": "2025-03-20T13:08:41.844962646Z"
    }
   }
  },
  {
   "cell_type": "code",
   "execution_count": 8,
   "outputs": [
    {
     "data": {
      "text/plain": "                                                   Maj-Min_AAA  Maj-Min_ABC  \\\ndataset      model                                                            \nsnli         meta-llama/Llama-3.1-8B-Instruct         0.749992     0.770067   \n             meta-llama/Llama-3.3-70B-Instruct        0.821106     0.820398   \n             mistralai/Mixtral-8x7B-Instruct-v0.1     0.814770     0.801989   \ntweet        meta-llama/Llama-3.1-8B-Instruct         0.772610     0.778044   \n             meta-llama/Llama-3.3-70B-Instruct        0.766688     0.775284   \n             mistralai/Mixtral-8x7B-Instruct-v0.1     0.728177     0.739550   \nsarcasmania  meta-llama/Llama-3.1-8B-Instruct         0.720517     0.777615   \n             meta-llama/Llama-3.3-70B-Instruct        0.821567     0.847246   \n             mistralai/Mixtral-8x7B-Instruct-v0.1     0.945242     0.945275   \nword_context meta-llama/Llama-3.1-8B-Instruct         0.613379     0.637683   \n             meta-llama/Llama-3.3-70B-Instruct        0.725476     0.727791   \n             mistralai/Mixtral-8x7B-Instruct-v0.1     0.684138     0.678926   \n\n                                                   Min-Maj_AAA  Min-Maj_ABC  \\\ndataset      model                                                            \nsnli         meta-llama/Llama-3.1-8B-Instruct         0.739920     0.760294   \n             meta-llama/Llama-3.3-70B-Instruct        0.793936     0.805052   \n             mistralai/Mixtral-8x7B-Instruct-v0.1     0.778382     0.790896   \ntweet        meta-llama/Llama-3.1-8B-Instruct         0.781428     0.774350   \n             meta-llama/Llama-3.3-70B-Instruct        0.772015     0.771119   \n             mistralai/Mixtral-8x7B-Instruct-v0.1     0.738244     0.731447   \nsarcasmania  meta-llama/Llama-3.1-8B-Instruct         0.708722     0.705805   \n             meta-llama/Llama-3.3-70B-Instruct        0.847944     0.839643   \n             mistralai/Mixtral-8x7B-Instruct-v0.1     0.911844     0.910294   \nword_context meta-llama/Llama-3.1-8B-Instruct         0.650864     0.621419   \n             meta-llama/Llama-3.3-70B-Instruct        0.718476     0.721577   \n             mistralai/Mixtral-8x7B-Instruct-v0.1     0.684455     0.692049   \n\n                                                     RANDOM  \ndataset      model                                           \nsnli         meta-llama/Llama-3.1-8B-Instruct      0.764243  \n             meta-llama/Llama-3.3-70B-Instruct     0.810760  \n             mistralai/Mixtral-8x7B-Instruct-v0.1  0.798897  \ntweet        meta-llama/Llama-3.1-8B-Instruct      0.777489  \n             meta-llama/Llama-3.3-70B-Instruct     0.773760  \n             mistralai/Mixtral-8x7B-Instruct-v0.1  0.734490  \nsarcasmania  meta-llama/Llama-3.1-8B-Instruct      0.732299  \n             meta-llama/Llama-3.3-70B-Instruct     0.838994  \n             mistralai/Mixtral-8x7B-Instruct-v0.1  0.927578  \nword_context meta-llama/Llama-3.1-8B-Instruct      0.631046  \n             meta-llama/Llama-3.3-70B-Instruct     0.720560  \n             mistralai/Mixtral-8x7B-Instruct-v0.1  0.684805  ",
      "text/html": "<div>\n<style scoped>\n    .dataframe tbody tr th:only-of-type {\n        vertical-align: middle;\n    }\n\n    .dataframe tbody tr th {\n        vertical-align: top;\n    }\n\n    .dataframe thead th {\n        text-align: right;\n    }\n</style>\n<table border=\"1\" class=\"dataframe\">\n  <thead>\n    <tr style=\"text-align: right;\">\n      <th></th>\n      <th></th>\n      <th>Maj-Min_AAA</th>\n      <th>Maj-Min_ABC</th>\n      <th>Min-Maj_AAA</th>\n      <th>Min-Maj_ABC</th>\n      <th>RANDOM</th>\n    </tr>\n    <tr>\n      <th>dataset</th>\n      <th>model</th>\n      <th></th>\n      <th></th>\n      <th></th>\n      <th></th>\n      <th></th>\n    </tr>\n  </thead>\n  <tbody>\n    <tr>\n      <th rowspan=\"3\" valign=\"top\">snli</th>\n      <th>meta-llama/Llama-3.1-8B-Instruct</th>\n      <td>0.749992</td>\n      <td>0.770067</td>\n      <td>0.739920</td>\n      <td>0.760294</td>\n      <td>0.764243</td>\n    </tr>\n    <tr>\n      <th>meta-llama/Llama-3.3-70B-Instruct</th>\n      <td>0.821106</td>\n      <td>0.820398</td>\n      <td>0.793936</td>\n      <td>0.805052</td>\n      <td>0.810760</td>\n    </tr>\n    <tr>\n      <th>mistralai/Mixtral-8x7B-Instruct-v0.1</th>\n      <td>0.814770</td>\n      <td>0.801989</td>\n      <td>0.778382</td>\n      <td>0.790896</td>\n      <td>0.798897</td>\n    </tr>\n    <tr>\n      <th rowspan=\"3\" valign=\"top\">tweet</th>\n      <th>meta-llama/Llama-3.1-8B-Instruct</th>\n      <td>0.772610</td>\n      <td>0.778044</td>\n      <td>0.781428</td>\n      <td>0.774350</td>\n      <td>0.777489</td>\n    </tr>\n    <tr>\n      <th>meta-llama/Llama-3.3-70B-Instruct</th>\n      <td>0.766688</td>\n      <td>0.775284</td>\n      <td>0.772015</td>\n      <td>0.771119</td>\n      <td>0.773760</td>\n    </tr>\n    <tr>\n      <th>mistralai/Mixtral-8x7B-Instruct-v0.1</th>\n      <td>0.728177</td>\n      <td>0.739550</td>\n      <td>0.738244</td>\n      <td>0.731447</td>\n      <td>0.734490</td>\n    </tr>\n    <tr>\n      <th rowspan=\"3\" valign=\"top\">sarcasmania</th>\n      <th>meta-llama/Llama-3.1-8B-Instruct</th>\n      <td>0.720517</td>\n      <td>0.777615</td>\n      <td>0.708722</td>\n      <td>0.705805</td>\n      <td>0.732299</td>\n    </tr>\n    <tr>\n      <th>meta-llama/Llama-3.3-70B-Instruct</th>\n      <td>0.821567</td>\n      <td>0.847246</td>\n      <td>0.847944</td>\n      <td>0.839643</td>\n      <td>0.838994</td>\n    </tr>\n    <tr>\n      <th>mistralai/Mixtral-8x7B-Instruct-v0.1</th>\n      <td>0.945242</td>\n      <td>0.945275</td>\n      <td>0.911844</td>\n      <td>0.910294</td>\n      <td>0.927578</td>\n    </tr>\n    <tr>\n      <th rowspan=\"3\" valign=\"top\">word_context</th>\n      <th>meta-llama/Llama-3.1-8B-Instruct</th>\n      <td>0.613379</td>\n      <td>0.637683</td>\n      <td>0.650864</td>\n      <td>0.621419</td>\n      <td>0.631046</td>\n    </tr>\n    <tr>\n      <th>meta-llama/Llama-3.3-70B-Instruct</th>\n      <td>0.725476</td>\n      <td>0.727791</td>\n      <td>0.718476</td>\n      <td>0.721577</td>\n      <td>0.720560</td>\n    </tr>\n    <tr>\n      <th>mistralai/Mixtral-8x7B-Instruct-v0.1</th>\n      <td>0.684138</td>\n      <td>0.678926</td>\n      <td>0.684455</td>\n      <td>0.692049</td>\n      <td>0.684805</td>\n    </tr>\n  </tbody>\n</table>\n</div>"
     },
     "execution_count": 8,
     "metadata": {},
     "output_type": "execute_result"
    }
   ],
   "source": [
    "all_o_p"
   ],
   "metadata": {
    "collapsed": false,
    "ExecuteTime": {
     "end_time": "2025-03-20T13:08:53.856735161Z",
     "start_time": "2025-03-20T13:08:53.815969155Z"
    }
   }
  },
  {
   "cell_type": "code",
   "execution_count": 9,
   "outputs": [
    {
     "data": {
      "text/plain": "Maj-Min_AAA    0.763639\nMaj-Min_ABC    0.774989\nMin-Maj_AAA    0.760519\nMin-Maj_ABC    0.760329\nRANDOM         0.766243\ndtype: float64"
     },
     "execution_count": 9,
     "metadata": {},
     "output_type": "execute_result"
    }
   ],
   "source": [
    "all_o_p.mean()"
   ],
   "metadata": {
    "collapsed": false,
    "ExecuteTime": {
     "end_time": "2025-03-20T13:08:55.297376126Z",
     "start_time": "2025-03-20T13:08:55.281498895Z"
    }
   }
  },
  {
   "cell_type": "code",
   "execution_count": 10,
   "outputs": [],
   "source": [
    "llama_small = all_o_p[all_o_p.index.get_level_values(1) == 'meta-llama/Llama-3.1-8B-Instruct'].mean()"
   ],
   "metadata": {
    "collapsed": false,
    "ExecuteTime": {
     "end_time": "2025-03-20T13:09:02.480283524Z",
     "start_time": "2025-03-20T13:09:02.467949587Z"
    }
   }
  },
  {
   "cell_type": "code",
   "execution_count": 11,
   "outputs": [],
   "source": [
    "llama_big = all_o_p[all_o_p.index.get_level_values(1) == 'meta-llama/Llama-3.3-70B-Instruct'].mean()"
   ],
   "metadata": {
    "collapsed": false,
    "ExecuteTime": {
     "end_time": "2025-03-20T13:09:02.824953458Z",
     "start_time": "2025-03-20T13:09:02.782517287Z"
    }
   }
  },
  {
   "cell_type": "code",
   "execution_count": 12,
   "outputs": [],
   "source": [
    "mix = all_o_p[all_o_p.index.get_level_values(1) == 'mistralai/Mixtral-8x7B-Instruct-v0.1'].mean()"
   ],
   "metadata": {
    "collapsed": false,
    "ExecuteTime": {
     "end_time": "2025-03-20T13:09:03.067697363Z",
     "start_time": "2025-03-20T13:09:03.056280874Z"
    }
   }
  },
  {
   "cell_type": "code",
   "execution_count": 13,
   "outputs": [
    {
     "data": {
      "text/plain": "                            Maj-Min_AAA  Maj-Min_ABC  Min-Maj_AAA  \\\nLlama-3.1-8B-Instruct          0.714125     0.740852     0.720233   \nLlama-3.3-70B-Instruct         0.783709     0.792680     0.783093   \nMixtral-8x7B-Instruct-v0.1     0.793082     0.791435     0.778231   \n\n                            Min-Maj_ABC    RANDOM  \nLlama-3.1-8B-Instruct          0.715467  0.726269  \nLlama-3.3-70B-Instruct         0.784348  0.786018  \nMixtral-8x7B-Instruct-v0.1     0.781171  0.786443  ",
      "text/html": "<div>\n<style scoped>\n    .dataframe tbody tr th:only-of-type {\n        vertical-align: middle;\n    }\n\n    .dataframe tbody tr th {\n        vertical-align: top;\n    }\n\n    .dataframe thead th {\n        text-align: right;\n    }\n</style>\n<table border=\"1\" class=\"dataframe\">\n  <thead>\n    <tr style=\"text-align: right;\">\n      <th></th>\n      <th>Maj-Min_AAA</th>\n      <th>Maj-Min_ABC</th>\n      <th>Min-Maj_AAA</th>\n      <th>Min-Maj_ABC</th>\n      <th>RANDOM</th>\n    </tr>\n  </thead>\n  <tbody>\n    <tr>\n      <th>Llama-3.1-8B-Instruct</th>\n      <td>0.714125</td>\n      <td>0.740852</td>\n      <td>0.720233</td>\n      <td>0.715467</td>\n      <td>0.726269</td>\n    </tr>\n    <tr>\n      <th>Llama-3.3-70B-Instruct</th>\n      <td>0.783709</td>\n      <td>0.792680</td>\n      <td>0.783093</td>\n      <td>0.784348</td>\n      <td>0.786018</td>\n    </tr>\n    <tr>\n      <th>Mixtral-8x7B-Instruct-v0.1</th>\n      <td>0.793082</td>\n      <td>0.791435</td>\n      <td>0.778231</td>\n      <td>0.781171</td>\n      <td>0.786443</td>\n    </tr>\n  </tbody>\n</table>\n</div>"
     },
     "execution_count": 13,
     "metadata": {},
     "output_type": "execute_result"
    }
   ],
   "source": [
    "df = pd.concat([llama_small, llama_big, mix], axis=1)\n",
    "df.columns = ['Llama-3.1-8B-Instruct', 'Llama-3.3-70B-Instruct', 'Mixtral-8x7B-Instruct-v0.1']\n",
    "df.T"
   ],
   "metadata": {
    "collapsed": false,
    "ExecuteTime": {
     "end_time": "2025-03-20T13:09:04.215097624Z",
     "start_time": "2025-03-20T13:09:04.187971498Z"
    }
   }
  },
  {
   "cell_type": "code",
   "execution_count": null,
   "outputs": [],
   "source": [],
   "metadata": {
    "collapsed": false
   }
  }
 ],
 "metadata": {
  "kernelspec": {
   "display_name": "Python 3",
   "language": "python",
   "name": "python3"
  },
  "language_info": {
   "codemirror_mode": {
    "name": "ipython",
    "version": 2
   },
   "file_extension": ".py",
   "mimetype": "text/x-python",
   "name": "python",
   "nbconvert_exporter": "python",
   "pygments_lexer": "ipython2",
   "version": "2.7.6"
  }
 },
 "nbformat": 4,
 "nbformat_minor": 0
}
